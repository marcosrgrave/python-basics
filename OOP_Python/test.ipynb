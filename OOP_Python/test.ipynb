{
 "cells": [
  {
   "cell_type": "code",
   "execution_count": 12,
   "metadata": {},
   "outputs": [],
   "source": [
    "class Person:\n",
    "    '''Class to store person data.'''\n",
    "    \n",
    "    # no metodo construtor, define-se as caracteristicas mais basicas de Person\n",
    "    def __init__(self, name, age): # -> None: (o que é isso?)\n",
    "        self.name = name\n",
    "        self.age = age\n",
    "        print('Object Created')\n",
    "    \n",
    "    def basic_data(self):\n",
    "        print(f'The person {self.name} is {self.age} years old.')"
   ]
  },
  {
   "cell_type": "code",
   "execution_count": 13,
   "metadata": {},
   "outputs": [
    {
     "name": "stdout",
     "output_type": "stream",
     "text": [
      "Object Created\n"
     ]
    }
   ],
   "source": [
    "person1 = Person('Marcos', 23)"
   ]
  },
  {
   "cell_type": "code",
   "execution_count": 14,
   "metadata": {},
   "outputs": [
    {
     "name": "stdout",
     "output_type": "stream",
     "text": [
      "The person Marcos is 23 years old.\n"
     ]
    }
   ],
   "source": [
    "person1.basic_data()"
   ]
  }
 ],
 "metadata": {
  "interpreter": {
   "hash": "c10ba3dc95f78c5d04542217f57044e07e018c5edbc369af1376396df9692f03"
  },
  "kernelspec": {
   "display_name": "Python 3.10.2 64-bit (windows store)",
   "language": "python",
   "name": "python3"
  },
  "language_info": {
   "codemirror_mode": {
    "name": "ipython",
    "version": 3
   },
   "file_extension": ".py",
   "mimetype": "text/x-python",
   "name": "python",
   "nbconvert_exporter": "python",
   "pygments_lexer": "ipython3",
   "version": "3.10.2"
  },
  "orig_nbformat": 4
 },
 "nbformat": 4,
 "nbformat_minor": 2
}
