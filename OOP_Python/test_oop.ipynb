{
 "cells": [
  {
   "cell_type": "code",
   "execution_count": 30,
   "metadata": {},
   "outputs": [],
   "source": [
    "class Person:\n",
    "    '''Docstring: Class to store person data.'''\n",
    "    \n",
    "    # no metodo construtor, define-se as caracteristicas mais basicas de Person\n",
    "    def __init__(self, name, age) -> None: # (o que é isso? R: é uma boa prática indicando o que o método retorna.)\n",
    "        self.name = name\n",
    "        self.age = age\n",
    "        print('Object Created')\n",
    "    \n",
    "    def basic_data(self) -> str:\n",
    "        return f'The person {self.name} is {self.age} years old.'"
   ]
  },
  {
   "cell_type": "code",
   "execution_count": 31,
   "metadata": {},
   "outputs": [
    {
     "name": "stdout",
     "output_type": "stream",
     "text": [
      "Object Created\n"
     ]
    }
   ],
   "source": [
    "person1 = Person('Marcos', 23)"
   ]
  },
  {
   "cell_type": "code",
   "execution_count": 32,
   "metadata": {},
   "outputs": [
    {
     "name": "stdout",
     "output_type": "stream",
     "text": [
      "The person Marcos is 23 years old.\n"
     ]
    }
   ],
   "source": [
    "print(person1.basic_data())"
   ]
  },
  {
   "cell_type": "code",
   "execution_count": 26,
   "metadata": {},
   "outputs": [],
   "source": [
    "# Sample Input (time is in 24h format):\n",
    "meetings1 = [['9:00', '10:30'], ['12:00', '13:00'], ['16:00', '18:00']]\n",
    "dailybound1 = ['9:00', '20:00']\n",
    "\n",
    "meetings2 = [['10:00', '11:30'], ['12:30', '14:30'], ['14:30', '15:00'], ['16:00', '17:00']]\n",
    "dailybound2 = ['10:00', '18:30']\n",
    "\n",
    "meeting_duration = 30  # minutes\n",
    "\n",
    "# Sample Output (return a list of available times in dailybound):\n",
    "# [['11:30', '12:00'], ['15:00', '16:00'], ['18:00', '18:30']]"
   ]
  },
  {
   "cell_type": "code",
   "execution_count": 75,
   "metadata": {},
   "outputs": [
    {
     "name": "stdout",
     "output_type": "stream",
     "text": [
      "[[9.0, 10.5], [10.0, 11.5], [12.0, 13.0], [12.5, 14.5], [16.0, 18.0], [14.5, 15.0]]\n",
      "[['9:00', '10:30'], ['12:00', '13:00'], ['16:00', '18:00']]\n",
      "[['10:00', '11:30'], ['12:30', '14:30'], ['14:30', '15:00'], ['16:00', '17:00']]\n",
      "[9.0, 12.0, 16.0] [10.5, 13.0, 18.0]\n",
      "[10.0, 12.5, 14.5, 16.0] [11.5, 14.5, 15.0, 17.0]\n",
      "11.5 < 12.0\n",
      "True\n",
      "14.5 < 14.5\n",
      "False\n"
     ]
    }
   ],
   "source": [
    "# max_end = maior entre (final_meeting1, final_meeting2)\n",
    "# min_begin = menor entre (inicio_meeting1, inicio_meeting2)\n",
    "\n",
    "# interval_bool = o maior entre (final_meeting1, final_meeting2) < do que o menor(inicio_meeting1, inicio_meeting2)\n",
    "# interval = min_begin - max_end\n",
    "# se o interval > meeting_duration {available = max(final_meeting1, final_meeting1), min(final_meeting1, final_meeting1)}\n",
    "\n",
    "\n",
    "# preciso converter a hora em numero\n",
    "def convert_time_in_hours(time=str):\n",
    "    hour, minutes = map(int, time.split(':'))\n",
    "    total_hours = hour + minutes/60\n",
    "    return total_hours\n",
    "\n",
    "\n",
    "# Sort apenas pelos horario de termino das reunioes\n",
    "all_meetings = []\n",
    "for meet1, meet2 in zip(meetings1, meetings2):\n",
    "    start1 = convert_time_in_hours(meet1[0])\n",
    "    end1 = convert_time_in_hours(meet1[1])\n",
    "    \n",
    "    start2 = convert_time_in_hours(meet2[0])\n",
    "    end2 = convert_time_in_hours(meet2[1])\n",
    "    \n",
    "    all_meetings.append([start1, end1])\n",
    "    all_meetings.append([start2, end2])\n",
    "print(all_meetings)\n",
    "\n",
    "\n",
    "print(meetings1)\n",
    "print(meetings2)\n",
    "\n",
    "\n",
    "starts1, starts2 = [], []\n",
    "ends1, ends2 = [], []\n",
    "for meet in meetings1:\n",
    "    start = convert_time_in_hours(meet[0])\n",
    "    starts1.append(start)\n",
    "    end = convert_time_in_hours(meet[1])\n",
    "    ends1.append(end)\n",
    "print(starts1, ends1)\n",
    "\n",
    "for meet in meetings2:\n",
    "    start = convert_time_in_hours(meet[0])\n",
    "    starts2.append(start)\n",
    "    end = convert_time_in_hours(meet[1])\n",
    "    ends2.append(end)\n",
    "print(starts2, ends2)\n",
    "\n",
    "min_st, max_end = [], []\n",
    "for st1, st2, end1, end2 in zip(starts1, starts2, ends1, ends2):\n",
    "    min_st.append(min(st1, st2))\n",
    "    max_end.append(max(end1, end2))\n",
    "    # print(min_st)\n",
    "    # print(max_end)\n",
    "\n",
    "for i in range(0, 2):\n",
    "    print(f'{max_end[i]} < {min_st[i+1]}')\n",
    "    interval_bool = max_end[i] < min_st[i+1]\n",
    "    print(interval_bool)\n"
   ]
  }
 ],
 "metadata": {
  "interpreter": {
   "hash": "c10ba3dc95f78c5d04542217f57044e07e018c5edbc369af1376396df9692f03"
  },
  "kernelspec": {
   "display_name": "Python 3.10.2 64-bit (windows store)",
   "language": "python",
   "name": "python3"
  },
  "language_info": {
   "codemirror_mode": {
    "name": "ipython",
    "version": 3
   },
   "file_extension": ".py",
   "mimetype": "text/x-python",
   "name": "python",
   "nbconvert_exporter": "python",
   "pygments_lexer": "ipython3",
   "version": "3.10.2"
  },
  "orig_nbformat": 4
 },
 "nbformat": 4,
 "nbformat_minor": 2
}
